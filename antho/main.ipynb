{
 "cells": [
  {
   "cell_type": "code",
   "execution_count": 18,
   "metadata": {},
   "outputs": [],
   "source": [
    "import face_recognition\n",
    "import cv2\n",
    "import numpy as np\n",
    "import asyncio\n",
    "import websockets\n",
    "from websockets.exceptions import ConnectionClosed, ConnectionClosedError\n",
    "import json"
   ]
  },
  {
   "cell_type": "code",
   "execution_count": 19,
   "metadata": {},
   "outputs": [],
   "source": [
    "uri = \"ws://localhost:8000/ws/swipes\"\n",
    "\n",
    "font = cv2.FONT_HERSHEY_DUPLEX"
   ]
  },
  {
   "cell_type": "code",
   "execution_count": 20,
   "metadata": {},
   "outputs": [],
   "source": [
    "async def send_gesture(websocket, gesture: dict):\n",
    "    try:\n",
    "        # print(\"Sending gesture...\")\n",
    "        await websocket.send(json.dumps(gesture))\n",
    "        # print(\"Gesture sent.\")\n",
    "    except ConnectionClosedError:\n",
    "        print(\"WebSocket connection was closed unexpectedly.\")"
   ]
  },
  {
   "cell_type": "code",
   "execution_count": 21,
   "metadata": {},
   "outputs": [],
   "source": [
    "# Get a reference to webcam #0 (the default one)\n",
    "video_capture = cv2.VideoCapture(0)\n",
    "\n",
    "# Load a sample picture and learn how to recognize it.\n",
    "obama_image = face_recognition.load_image_file(\"obama.jpg\")\n",
    "obama_face_encoding = face_recognition.face_encodings(obama_image)[0]\n",
    "\n",
    "# Load a second sample picture and learn how to recognize it.\n",
    "biden_image = face_recognition.load_image_file(\"biden.jpg\")\n",
    "biden_face_encoding = face_recognition.face_encodings(biden_image)[0]\n",
    "\n",
    "# Load a third sample picture and learn how to recognize it.\n",
    "antoine_image = face_recognition.load_image_file(\"antoine.jpg\")\n",
    "antoine_face_encoding = face_recognition.face_encodings(antoine_image)[0]\n",
    "\n",
    "# Create arrays of known face encodings and their names\n",
    "known_face_encodings = [\n",
    "    obama_face_encoding,\n",
    "    biden_face_encoding,\n",
    "    antoine_face_encoding\n",
    "]\n",
    "known_face_names = [\n",
    "    \"Barack Obama\",\n",
    "    \"Joe Biden\",\n",
    "    \"Antoine Maes\"\n",
    "]\n",
    "\n",
    "# Initialize some variables\n",
    "face_locations = []\n",
    "face_encodings = []\n",
    "face_names = []\n",
    "process_this_frame = True"
   ]
  },
  {
   "cell_type": "code",
   "execution_count": 22,
   "metadata": {},
   "outputs": [],
   "source": [
    "async def detect_faces(frame):\n",
    "    # Resize frame of video to 1/4 size for faster face recognition processing\n",
    "    small_frame = cv2.resize(frame, (0, 0), fx=0.25, fy=0.25)\n",
    "\n",
    "    # Convert the image from BGR color (which OpenCV uses) to RGB color (which face_recognition uses)\n",
    "    rgb_small_frame = np.ascontiguousarray(small_frame[:, :, ::-1])\n",
    "\n",
    "                        \n",
    "    # Find all the faces and face encodings in the current frame of video\n",
    "    face_locations = face_recognition.face_locations(rgb_small_frame)\n",
    "    face_encodings = face_recognition.face_encodings(rgb_small_frame, face_locations)\n",
    "\n",
    "    face_names = []\n",
    "    for face_encoding in face_encodings:\n",
    "        # See if the face is a match for the known face(s)\n",
    "        matches = face_recognition.compare_faces(known_face_encodings, face_encoding)\n",
    "        name = \"Unknown\"\n",
    "\n",
    "        # # If a match was found in known_face_encodings, just use the first one.\n",
    "        # if True in matches:\n",
    "        #     first_match_index = matches.index(True)\n",
    "        #     name = known_face_names[first_match_index]\n",
    "\n",
    "        # Or instead, use the known face with the smallest distance to the new face\n",
    "        face_distances = face_recognition.face_distance(known_face_encodings, face_encoding)\n",
    "        best_match_index = np.argmin(face_distances)\n",
    "        if matches[best_match_index]:\n",
    "            name = known_face_names[best_match_index]\n",
    "        face_names.append(name)\n",
    "\n",
    "    return face_names, face_locations   "
   ]
  },
  {
   "cell_type": "code",
   "execution_count": 23,
   "metadata": {},
   "outputs": [],
   "source": [
    "def display_image(frame, face_locations, face_names):\n",
    "    # Display the results\n",
    "    for (top, right, bottom, left), name in zip(face_locations, face_names):\n",
    "        # Scale back up face locations since the frame we detected in was scaled to 1/4 size\n",
    "        top *= 4\n",
    "        right *= 4\n",
    "        bottom *= 4\n",
    "        left *= 4\n",
    "\n",
    "        # Draw a box around the face\n",
    "        cv2.rectangle(frame, (left, top), (right, bottom), (0, 0, 255), 2)\n",
    "\n",
    "        # Draw a label with a name below the face\n",
    "        cv2.rectangle(frame, (left, bottom - 35), (right, bottom), (0, 0, 255), cv2.FILLED)\n",
    "        cv2.putText(frame, name, (left + 6, bottom - 6), font, 1.0, (255, 255, 255), 1)\n",
    "\n",
    "    cv2.imshow('Video', frame)\n",
    "    cv2.waitKey(1)"
   ]
  },
  {
   "cell_type": "code",
   "execution_count": 24,
   "metadata": {},
   "outputs": [
    {
     "name": "stderr",
     "output_type": "stream",
     "text": [
      "Task exception was never retrieved\n",
      "future: <Task finished name='Task-5' coro=<main() done, defined at C:\\Users\\nicol\\AppData\\Local\\Temp\\ipykernel_5848\\79818949.py:1> exception=OSError(\"Multiple exceptions: [Errno 10061] Connect call failed ('::1', 8000, 0, 0), [Errno 10061] Connect call failed ('127.0.0.1', 8000)\")>\n",
      "Traceback (most recent call last):\n",
      "  File \"C:\\Users\\nicol\\AppData\\Local\\Temp\\ipykernel_5848\\79818949.py\", line 5, in main\n",
      "    async with websockets.connect(uri) as websocket:\n",
      "  File \"c:\\Users\\nicol\\miniconda3\\envs\\miror\\lib\\site-packages\\websockets\\legacy\\client.py\", line 629, in __aenter__\n",
      "    return await self\n",
      "  File \"c:\\Users\\nicol\\miniconda3\\envs\\miror\\lib\\site-packages\\websockets\\legacy\\client.py\", line 647, in __await_impl_timeout__\n",
      "    return await self.__await_impl__()\n",
      "  File \"c:\\Users\\nicol\\miniconda3\\envs\\miror\\lib\\site-packages\\websockets\\legacy\\client.py\", line 651, in __await_impl__\n",
      "    _transport, _protocol = await self._create_connection()\n",
      "  File \"c:\\Users\\nicol\\miniconda3\\envs\\miror\\lib\\asyncio\\base_events.py\", line 1033, in create_connection\n",
      "    raise OSError('Multiple exceptions: {}'.format(\n",
      "OSError: Multiple exceptions: [Errno 10061] Connect call failed ('::1', 8000, 0, 0), [Errno 10061] Connect call failed ('127.0.0.1', 8000)\n"
     ]
    }
   ],
   "source": [
    "async def main():\n",
    "    global process_this_frame\n",
    "    while True:\n",
    "        try:\n",
    "            async with websockets.connect(uri) as websocket:\n",
    "                while True:\n",
    "                    # Grab a single frame of video\n",
    "                    ret, frame = video_capture.read()\n",
    "\n",
    "                    # Only process every other frame of video to save time\n",
    "                    if process_this_frame:\n",
    "                        face_names, face_locations = await detect_faces(frame)\n",
    "\n",
    "                        if len(face_names) > 0:\n",
    "                            payload = {\n",
    "                                \"swipe\": face_names[0]\n",
    "                            }\n",
    "                            await send_gesture(websocket, payload)\n",
    "\n",
    "                    process_this_frame = not process_this_frame\n",
    "\n",
    "\n",
    "                    #Display the frame\n",
    "                    display_image(frame, face_locations, face_names)\n",
    "                    \n",
    "        except ConnectionClosed:\n",
    "            print(\"Connection lost. Reconnecting...\")\n",
    "            continue\n",
    "        except websockets.exceptions.InvalidStatusCode as e:\n",
    "            print(f\"Server rejected WebSocket connection: {e}\")\n",
    "            break\n",
    "        \n",
    "\n",
    "task = asyncio.create_task(main())\n",
    "\n",
    "# Release handle to the webcam\n",
    "video_capture.release()\n",
    "cv2.destroyAllWindows()"
   ]
  }
 ],
 "metadata": {
  "kernelspec": {
   "display_name": "miror",
   "language": "python",
   "name": "python3"
  },
  "language_info": {
   "codemirror_mode": {
    "name": "ipython",
    "version": 3
   },
   "file_extension": ".py",
   "mimetype": "text/x-python",
   "name": "python",
   "nbconvert_exporter": "python",
   "pygments_lexer": "ipython3",
   "version": "3.8.19"
  }
 },
 "nbformat": 4,
 "nbformat_minor": 2
}
